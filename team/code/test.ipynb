{
 "cells": [
  {
   "cell_type": "code",
   "execution_count": 1,
   "id": "8cc3a969-6ad9-45cc-b8f0-2e27676b74ff",
   "metadata": {},
   "outputs": [],
   "source": [
    "import pickle\n",
    "from eda import *\n",
    "import json\n",
    "# gcd=[]\n",
    "# di\n",
    "# save\n",
    "# with open('guid_compare_dict.pickle', 'wb') as f:\n",
    "#     pickle.dump(guid_compare_dict, f, pickle.HIGHEST_PROTOCOL)\n",
    "# with open('dev_idx.pickle', 'wb') as f:\n",
    "#     pickle.dump(dev_idx, f, pickle.HIGHEST_PROTOCOL)\n",
    "\n",
    "# load\n",
    "\n",
    "with open('/opt/ml/p3-dst-dts/team/code/results/use_augmentationed_dataset/dev_idxs.pickle', 'rb') as f:\n",
    "    di_load = pickle.load(f)\n",
    "with open('/opt/ml/p3-dst-dts/team/code/results/use_augmentationed_dataset/guid_compare_dict_list.pickle', 'rb') as f:\n",
    "    gcd_load = pickle.load(f)"
   ]
  },
  {
   "cell_type": "code",
   "execution_count": 2,
   "id": "8575f72f-9c92-40c4-9314-34a6dbc3debf",
   "metadata": {},
   "outputs": [],
   "source": [
    "\n",
    "def make_Wrongdialchecker(guid_compare_dict:dict)->dict:\n",
    "    \"\"\"[dev_data와 오답을 비교하여 guid에 대해 dial과 오답 slot-value를 함께 저장할 메소드]\n",
    "\n",
    "    Args:\n",
    "        guid_compare_dict (dict): [guid와 trun에 따른 정답/오답을 가진 dict]\n",
    "\n",
    "    Returns:\n",
    "        dict: [{guid: turn,user,text,state}형식의 dict 반환]\n",
    "    \"\"\"\n",
    "\n",
    "    #데이터 전체 이용\n",
    "    train_data_file = \"/opt/ml/input/data/train_dataset/new_dataset.json\"\n",
    "    data = json.load(open(train_data_file))\n",
    "    wrong_dial_dict=dict()\n",
    "    for main_guid,values in guid_compare_dict.items():\n",
    "        wrong_dial_list=[]\n",
    "        for idx in data:\n",
    "            concat_idx=''.join(idx['dialogue_idx'].split('-'))\n",
    "            if main_guid.split(':')[0] in concat_idx:\n",
    "                for turn_guid, value in values.items():\n",
    "    #                 speecher=idx['dialogue'][int(turn_guid)*2]['role']\n",
    "                    text=idx['dialogue'][int(turn_guid)*2]['text']\n",
    "                    val=f\"turn {turn_guid} : {text}\"\n",
    "                    wrong_dial_list.append(val) \n",
    "                    wrong_dial_list.append(value) \n",
    "                wrong_dial_dict[idx['dialogue_idx']]=wrong_dial_list\n",
    "    \n",
    "    return wrong_dial_dict"
   ]
  },
  {
   "cell_type": "code",
   "execution_count": 4,
   "id": "d2e983e3-58e7-483c-9201-a61ffe20d4b0",
   "metadata": {},
   "outputs": [],
   "source": [
    "wdd=make_Wrongdialchecker(gcd_load[-1])"
   ]
  },
  {
   "cell_type": "code",
   "execution_count": null,
   "id": "d1cad273-1800-4a50-908e-96d7af6f0703",
   "metadata": {},
   "outputs": [],
   "source": [
    "gcd_load[-1]"
   ]
  },
  {
   "cell_type": "code",
   "execution_count": null,
   "id": "1d17650e-0638-4997-b510-c1e63fb6766f",
   "metadata": {},
   "outputs": [],
   "source": [
    "wdd"
   ]
  },
  {
   "cell_type": "code",
   "execution_count": 7,
   "id": "ed3a7a0a-9418-448f-bfba-bffcd5c1e593",
   "metadata": {},
   "outputs": [
    {
     "name": "stdout",
     "output_type": "stream",
     "text": [
      "falling-king-2544:택시_1_kor 에서 틀린 부분을 확인합니다\n",
      "turn 1 : 10시까지 도착만 하면 됩니다. 출발시간은 아무때나 괜찮습니다. \n",
      "{'택시-도착 시간': ('17시 13분', 'none1')}\n",
      "turn 2 : 아니요 감사합니다. \n",
      "{'택시-도착 시간': ('17시 13분', 'none1')}\n",
      "turn 1 : 13시 20분까지 도착만 하면 됩니다. 출발시간은 아무때나 괜찮습니다. \n",
      "{'택시-도착 시간': ('17시 13분', 'none1')}\n",
      "turn 2 : 아니요 감사합니다. \n",
      "{'택시-도착 시간': ('17시 13분', 'none1')}\n",
      "turn 1 : 13시 20분까지 도착만 하면 됩니다. 출발시간은 아무때나 괜찮습니다. \n",
      "{'택시-도착 시간': ('17시 13분', 'none1')}\n",
      "turn 2 : 아니요 감사합니다. \n",
      "{'택시-도착 시간': ('17시 13분', 'none1')}\n"
     ]
    }
   ],
   "source": [
    "check_Wrongdial('falling-king-2544:택시_1_kor',wdd)"
   ]
  },
  {
   "cell_type": "code",
   "execution_count": 29,
   "id": "3fc01749-edf2-48d4-ac67-ce738651c801",
   "metadata": {},
   "outputs": [],
   "source": [
    "import random\n",
    "import copy\n",
    "\n",
    "def time2kor(time:str)-> str:\n",
    "    \"\"\"[\"12:30\" 형식의 문자열 시간을 \"12시 30분\"으로 변경한다. 정각일 경우 \"12시\"만 리턴]\n",
    "\n",
    "    Args:\n",
    "        time (str): [\"12:30\" 형태의 시간]\n",
    "\n",
    "    Returns:\n",
    "        [str]: [문자열 시간 리턴]\n",
    "    \"\"\"\n",
    "    l=list(map(int,time.split(':')))\n",
    "    #5시 00분 정각일 때 \"5시\" 이렇게 리턴함\n",
    "    new_time=f'{l[0]}시'+(('') if l[1]==0 else f' {l[1]}분')\n",
    "    return new_time\n",
    "\n",
    "def time2ampm(time:str)-> str:\n",
    "    \"\"\"[\"12:30\" 형식의 문자열 시간을 \"오후/오전 12시 30분\"으로 변경한다. 정각일 경우 \"오전 12시\"만 리턴]\n",
    "\n",
    "    Args:\n",
    "        time (str): [\"12:30\" 형태의 시간]\n",
    "\n",
    "    Returns:\n",
    "        str: [문자열 시간 리턴]\n",
    "    \"\"\"\n",
    "    l=list(map(int,time.split(':')))\n",
    "    #5시 00분 정각일 때 \"5시\" 이렇게 리턴함\n",
    "    hour=l[0]\n",
    "    minute=l[1]\n",
    "    \n",
    "    new_time=(f'오전 {hour}시' if hour<12 else f\"오후 {hour-12}시\")+(('') if l[1]==0 else f' {l[1]}분')\n",
    "    return new_time\n",
    "\n",
    "def kor2time(kor:str)-> str:\n",
    "    \"\"\"[\"12시 30분\"형식의 한글 문자열 시간 정보를 state에 적합한 \"12:30\"으로 변경한다]\n",
    "\n",
    "    Args:\n",
    "        kor (str): [\"12시 30분\"형식의 한글 문자열 시간 정보]\n",
    "\n",
    "    Returns:\n",
    "        str: [\"12:30\"]\n",
    "    \"\"\"\n",
    "    kor=kor.split(' ')\n",
    "    minute=''\n",
    "    hour=kor[0][0:-1]\n",
    "    if len(kor)>1:\n",
    "        minute=str(int(kor[1][0:-1]))\n",
    "    \n",
    "    if int(hour)<10 :\n",
    "        hour='0'+hour\n",
    "    if len(minute)>0 and int(minute)<10 :\n",
    "        minute='0'+minute\n",
    "    return f'{hour}:{minute}'\n",
    "        \n",
    "def make_randtime(time:str)-> str:\n",
    "    \"\"\"[랜덤으로 \"12:30\" 형식의 시간을 생성한다]\n",
    "\n",
    "    Args:\n",
    "        time (str): [\"12:30\" 형태의 시간]\n",
    "\n",
    "    Returns:\n",
    "        str: [랜덤으로 생성한 시간]\n",
    "    \"\"\"\n",
    "    \n",
    "    hour=random.randrange(0,24)\n",
    "    minute=random.randrange(0,60)\n",
    "    hour=str(hour)\n",
    "    minute=str(minute)\n",
    "    \n",
    "    if int(hour)<10 :\n",
    "        hour='0'+hour\n",
    "    if int(minute)<10 :\n",
    "        minute='0'+minute\n",
    "    return f'{hour}:{minute}'\n",
    "    \n",
    "def change_dialogue(dialogue:list,time_dict:dict,transfer_type:str)-> list:\n",
    "    \"\"\"[train_dials.json을 기반으로 시간을 추출하여 원본 dial을 2가지 방향(\"kor\"/\"ampm\")으로 변형한다]\n",
    "\n",
    "    Args:\n",
    "        dialogue (list): [train_dials 중 특정 원소 원본]\n",
    "        time_dict (dict(set)): [전달받은 dialogue에 포함된 모든 시간, set으로 중복이 없다]\n",
    "        transfer_type (str): ['kor'/'ampm'을 선택해서 변환]\n",
    "\n",
    "    Returns:\n",
    "        list: [변형된 dialogue로 [{dialogue_idx:val},{domains:val},{dialogue:val}] 원본과 같은 형태를 지닌다]\n",
    "    \"\"\"\n",
    "    #dialogue와 dialogue idx 변경해서 새로운 data를 리턴함\n",
    "    new_data=copy.deepcopy(dialogue)\n",
    "    new_dialogue=dialogue['dialogue']\n",
    "    #oo시 oo분으로 변경\n",
    "    if transfer_type=='kor':\n",
    "        new_data['dialogue_idx']=f\"{dialogue['dialogue_idx']}_kor\"\n",
    "        for dom_slot,time_set in time_dict.items():\n",
    "            for time in time_set:\n",
    "                new_time=make_randtime(time)\n",
    "#                 print(time,new_time,time2kor(time))\n",
    "                #모든 dom_slot의 state 시간을 새로운 시간으로 변경\n",
    "                for ds in time_dict.keys():\n",
    "                    new_dialogue=str(new_dialogue).replace(f'{ds}-{time}',f'{ds}-{new_time}')\n",
    "                #아직 변경되지 않은 text에 존재하는 시간을 한글버전으로 변경\n",
    "                new_dialogue=str(new_dialogue).replace(time,time2kor(new_time))\n",
    "                #만일 text에 한글버전 시간이 존재한다면 한글버전 새시간으로 변경함\n",
    "                new_dialogue=str(new_dialogue).replace(time2kor(time),time2kor(new_time))\n",
    "                new_dialogue=str(new_dialogue).replace(time2ampm(time),time2kor(new_time))\n",
    "    #오후 oo시 oo분으로 변경\n",
    "    elif transfer_type=='ampm':\n",
    "        new_data['dialogue_idx']=f\"{dialogue['dialogue_idx']}_ampm\"\n",
    "        for dom_slot,time_set in time_dict.items():\n",
    "            for time in time_set:\n",
    "                new_time=make_randtime(time)\n",
    "#                 print(time,new_time)\n",
    "                #state 시간을 새로운 시간으로 변경\n",
    "                for ds in time_dict.keys():\n",
    "                    new_dialogue=str(new_dialogue).replace(f'{ds}-{time}',f'{ds}-{new_time}')\n",
    "                #text에 남아있는 기존 정규형식 시간을 ampm형식으로 변경\n",
    "                new_dialogue=str(new_dialogue).replace(time,time2ampm(new_time))\n",
    "                #text에 오전/오후 형식으로 시간이 남아있다면 새 시간으로 변경함\n",
    "                new_dialogue=str(new_dialogue).replace(time2ampm(time),time2ampm(new_time))\n",
    "                new_dialogue=str(new_dialogue).replace(time2kor(time),time2ampm(new_time))\n",
    "    \n",
    "    new_data['dialogue']=eval(new_dialogue)\n",
    "    \n",
    "    return new_data\n",
    "\n",
    "def dict_checker(time_dict:dict)->bool:\n",
    "    \"\"\"[dict(set)의 내용물이 아무것도 없는 경우를 확인한다. 슬롯의 시간value가 dontcare일 때를 위함이다]\n",
    "\n",
    "    Args:\n",
    "        time_dict (dict(set)): [전달받은 dialogue에 포함된 모든 시간, set으로 중복이 없다]\n",
    "\n",
    "    Returns:\n",
    "        bool: [정상적으로 시간값들이 포함돼있어 변형가능한 경우 1, dontcare같은 예외가있어 전혀 바뀌지 않을 경우 0 반환]\n",
    "    \"\"\"\n",
    "    count=sum(list(map(len,time_dict.values())))\n",
    "    return 0 if count==0 else 1 \n",
    "\n",
    "def augmentation(train_dials:list)->list:\n",
    "    \"\"\"[list로 불러온 train_dials.json를 받아 새로운 new_train_dials를 생성한다.]\n",
    "\n",
    "    Args:\n",
    "        train_dials (list): [원본 데이터 전체]\n",
    "\n",
    "    Returns:\n",
    "        list: [새로운 데이터]\n",
    "    \"\"\"\n",
    "    new_dataset=[]\n",
    "    cnt=0\n",
    "    for dialogue in train_dials:\n",
    "        if '식당' in dialogue['domains'] or '택시' in dialogue['domains'] or '지하철' in dialogue['domains']:\n",
    "            time_dict=dict({'식당-예약 시간':set(), '택시-출발 시간':set(), '택시-도착 시간':set(), '지하철-출발 시간':set()})\n",
    "            dial_dial=dialogue['dialogue']\n",
    "            #도메인에서 식당,지하철,택시 없으면 거름\n",
    "            for idx, dic in enumerate(dial_dial):\n",
    "                if idx%2==0:\n",
    "                    for sv in dic['state']:\n",
    "                        if '식당-예약 시간' in sv or '택시-출발 시간' in sv or '택시-도착 시간' in sv or '지하철-출발 시간' in sv:\n",
    "                            dom,slot,val=sv.split('-')\n",
    "                            if val =='dontcare':\n",
    "                                continue\n",
    "                            if val in dic['text'] or time2kor(val) in dic['text'] or time2ampm(val) in dic['text']:\n",
    "                                time_dict[f'{dom}-{slot}'].add(val)\n",
    "                            elif idx-1>0 and (time2kor(val) in dial_dial[idx-1]['text'] or time2ampm(val) in dial_dial[idx-1]['text']):\n",
    "                                time_dict[f'{dom}-{slot}'].add(val)\n",
    "            \n",
    "            if dict_checker(time_dict):\n",
    "                new_dataset.append(change_dialogue(dialogue,time_dict,'kor'))\n",
    "                new_dataset.append(change_dialogue(dialogue,time_dict,'ampm'))\n",
    "                cnt+=2\n",
    "    #원본까지 합치고 싶을 때\n",
    "    # new_dataset.extend(train_dials)\n",
    "    print(f'-----------{cnt}개를 augmentation하였습니다----------')\n",
    "\n",
    "    return new_dataset"
   ]
  },
  {
   "cell_type": "code",
   "execution_count": 30,
   "id": "1b1b6fbc-8d81-426a-b71d-90a9e5d74c43",
   "metadata": {},
   "outputs": [],
   "source": [
    "train_data_file = \"/opt/ml/input/data/train_dataset/train_dials.json\"\n",
    "data = json.load(open(train_data_file))"
   ]
  },
  {
   "cell_type": "code",
   "execution_count": 31,
   "id": "8c937601-1ab3-47c9-a419-76c30957d7ff",
   "metadata": {},
   "outputs": [
    {
     "name": "stdout",
     "output_type": "stream",
     "text": [
      "-----------7874개를 augmentation하였습니다----------\n"
     ]
    }
   ],
   "source": [
    "nd=augmentation(data)"
   ]
  },
  {
   "cell_type": "code",
   "execution_count": 32,
   "id": "6a985fa2-830c-459e-89d4-60a50a419120",
   "metadata": {},
   "outputs": [],
   "source": [
    "with open(\"new_dataset_t.json\", \"w\", encoding='UTF8') as json_file:\n",
    "\n",
    "    json.dump(nd, json_file,indent=2 ,ensure_ascii=False)"
   ]
  },
  {
   "cell_type": "code",
   "execution_count": 33,
   "id": "aa1eaa86-8c01-4fb0-8bc5-f9eb68d1df94",
   "metadata": {},
   "outputs": [
    {
     "data": {
      "text/plain": [
       "14874"
      ]
     },
     "execution_count": 33,
     "metadata": {},
     "output_type": "execute_result"
    }
   ],
   "source": [
    "data.extend(nd)\n",
    "len(data)"
   ]
  },
  {
   "cell_type": "code",
   "execution_count": 34,
   "id": "37f545ef-78fb-45be-9d97-0baddf114f2f",
   "metadata": {},
   "outputs": [],
   "source": [
    "with open(\"/opt/ml/input/data/train_dataset/new_dataset_tt.json\", \"w\", encoding='UTF8') as json_file:\n",
    "\n",
    "    json.dump(data, json_file,indent=2 ,ensure_ascii=False)"
   ]
  },
  {
   "cell_type": "code",
   "execution_count": null,
   "id": "02ab1680-da1a-4d36-807b-d362d81570c0",
   "metadata": {},
   "outputs": [],
   "source": []
  }
 ],
 "metadata": {
  "kernelspec": {
   "display_name": "Python 3",
   "language": "python",
   "name": "python3"
  },
  "language_info": {
   "codemirror_mode": {
    "name": "ipython",
    "version": 3
   },
   "file_extension": ".py",
   "mimetype": "text/x-python",
   "name": "python",
   "nbconvert_exporter": "python",
   "pygments_lexer": "ipython3",
   "version": "3.7.7"
  }
 },
 "nbformat": 4,
 "nbformat_minor": 5
}
