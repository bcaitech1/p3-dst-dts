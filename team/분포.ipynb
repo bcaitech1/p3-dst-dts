{
 "cells": [
  {
   "cell_type": "code",
   "execution_count": 145,
   "id": "c1e62522-1d8e-496b-8cdb-63ca40ba17ec",
   "metadata": {},
   "outputs": [
    {
     "name": "stdout",
     "output_type": "stream",
     "text": [
      "[Errno 2] No such file or directory: 'code'\n",
      "/opt/ml/project/team/code\n"
     ]
    }
   ],
   "source": [
    "%cd code"
   ]
  },
  {
   "cell_type": "code",
   "execution_count": 247,
   "id": "564f8f7a-fbcf-4573-994b-25cbe38cb48b",
   "metadata": {},
   "outputs": [],
   "source": [
    "import json\n",
    "import re\n",
    "from attrdict import AttrDict\n",
    "from string import Template\n",
    "\n",
    "from collections import defaultdict\n",
    "from dataclasses import dataclass\n",
    "from typing import List, Optional, Union\n",
    "\n",
    "import numpy as np\n",
    "import pandas as pd\n",
    "import seaborn as sns\n",
    "import matplotlib.pyplot as plt\n",
    "\n",
    "from prepare import get_data\n",
    "from data_utils import load_dataset, get_examples_from_dialogues, split_slot\n",
    "\n",
    "plt.rcParams[\"font.family\"] = 'NanumGothicCoding'\n",
    "plt.style.use('dark_background')"
   ]
  },
  {
   "cell_type": "code",
   "execution_count": 248,
   "id": "38525a80-494b-4e35-b1ba-f93a7fe04a2a",
   "metadata": {},
   "outputs": [],
   "source": [
    "args = AttrDict(\n",
    "    train_file_name='train_dials.json',\n",
    "    data_dir= '/opt/ml/input/data/train_dataset',\n",
    "    ontology_root='/opt/ml/input/data/train_dataset/edit_ontology_metro.json',\n",
    "    use_convert_ont=False,\n",
    "    use_domain_slot='basic',\n",
    "    use_small_data=False,\n",
    ")"
   ]
  },
  {
   "cell_type": "code",
   "execution_count": 249,
   "id": "26473b09-857c-4014-861c-a291b5df408b",
   "metadata": {},
   "outputs": [
    {
     "name": "stdout",
     "output_type": "stream",
     "text": [
      "using train: train_dials.json\n"
     ]
    }
   ],
   "source": [
    "data, slot_meta, ontology = get_data(args)"
   ]
  },
  {
   "cell_type": "code",
   "execution_count": 250,
   "id": "25f5c617-313b-4c0c-9bd9-30acab30e73a",
   "metadata": {},
   "outputs": [
    {
     "data": {
      "application/vnd.jupyter.widget-view+json": {
       "model_id": "b44a81545e6b4f5a8af1d0835b788ccc",
       "version_major": 2,
       "version_minor": 0
      },
      "text/plain": [
       "HBox(children=(FloatProgress(value=0.0, description='Getting all examples from dialogues', max=7000.0, style=P…"
      ]
     },
     "metadata": {},
     "output_type": "display_data"
    },
    {
     "name": "stdout",
     "output_type": "stream",
     "text": [
      "\n"
     ]
    }
   ],
   "source": [
    "examples = get_examples_from_dialogues(\n",
    "        data, user_first=False, dialogue_level=True, which='all'\n",
    ")"
   ]
  },
  {
   "cell_type": "code",
   "execution_count": 251,
   "id": "d99c3b9e-d570-4974-bc2e-02756a0d9198",
   "metadata": {},
   "outputs": [],
   "source": [
    "@dataclass\n",
    "class TurnFeature:\n",
    "    guid: str\n",
    "    current_turn: List[str]\n",
    "    value: str\n",
    "    \n",
    "    def __repr__(self):\n",
    "        return f'''\n",
    "{self.guid}\n",
    "VAL: {self.value}\n",
    "SYS: {self.current_turn[0]}\n",
    "USR: {self.current_turn[1]}\n",
    "'''"
   ]
  },
  {
   "cell_type": "code",
   "execution_count": 252,
   "id": "e7e7f8a7-6a86-42ee-b88f-51f6433be37c",
   "metadata": {},
   "outputs": [],
   "source": [
    "slot_dict = defaultdict(list)\n",
    "for x in slot_meta:\n",
    "    domain, slot = x.split('-')\n",
    "    slot_dict[domain].append(x)"
   ]
  },
  {
   "cell_type": "code",
   "execution_count": 253,
   "id": "cee54f92-8723-4317-a411-ac3c24e7c5f1",
   "metadata": {},
   "outputs": [
    {
     "data": {
      "text/plain": [
       "dict_keys(['관광', '숙소', '식당', '지하철', '택시'])"
      ]
     },
     "execution_count": 253,
     "metadata": {},
     "output_type": "execute_result"
    }
   ],
   "source": [
    "slot_dict.keys()"
   ]
  },
  {
   "cell_type": "code",
   "execution_count": 254,
   "id": "f3e0eeea-2587-4700-bdf9-d95074ec0a52",
   "metadata": {},
   "outputs": [],
   "source": [
    "df_dict = {domain:pd.DataFrame(data=0, index=slot_dict[domain], columns=slot_dict[domain]) for domain in slot_dict}\n",
    "for dialogs in examples:\n",
    "    for example in dialogs:\n",
    "        using = defaultdict(list)\n",
    "        for slot_value in example.label:\n",
    "            if slot_value in example.before_label:\n",
    "                continue\n",
    "            domain, slot, value = split_slot(slot_value, False)\n",
    "            using[domain].append(f'{domain}-{slot}')\n",
    "        for key, values in using.items():\n",
    "            for i in range(len(values)):\n",
    "#                 df_dict[key].loc[values[i], values[i]] += 1\n",
    "                for j in range(i+1, len(values)):\n",
    "                    df_dict[key].loc[values[i], values[j]] += 1\n",
    "                    df_dict[key].loc[values[j], values[i]] += 1"
   ]
  },
  {
   "cell_type": "code",
   "execution_count": 255,
   "id": "da68d681-bbeb-4c1c-8910-8c7a67bf335e",
   "metadata": {},
   "outputs": [
    {
     "data": {
      "text/plain": [
       "dict_keys(['관광', '숙소', '식당', '지하철', '택시'])"
      ]
     },
     "execution_count": 255,
     "metadata": {},
     "output_type": "execute_result"
    }
   ],
   "source": [
    "df_dict.keys()"
   ]
  },
  {
   "cell_type": "code",
   "execution_count": 282,
   "id": "35ff1e6e-b823-4f33-8ce7-2b44debb80ee",
   "metadata": {},
   "outputs": [],
   "source": [
    "domain = '택시'\n",
    "div = (df_dict[domain].to_numpy().sum() - df_dict[domain].to_numpy().trace()) // 2\n",
    "a = df_dict[domain] / div"
   ]
  },
  {
   "cell_type": "code",
   "execution_count": 283,
   "id": "099b5031-d49b-404f-a038-4acd3414922d",
   "metadata": {},
   "outputs": [
    {
     "data": {
      "image/png": "[encoded data removed]",
      "text/plain": [
       "<Figure size 1440x1440 with 2 Axes>"
      ]
     },
     "metadata": {},
     "output_type": "display_data"
    },
    {
     "name": "stdout",
     "output_type": "stream",
     "text": [
      "0.08\n"
     ]
    }
   ],
   "source": [
    "fig = plt.figure(figsize=(20, 20))\n",
    "sns.set_context(\"paper\", rc={\"font.size\":15,\"axes.titlesize\":20,\"axes.labelsize\":80})\n",
    "sns.heatmap(a, annot=True, fmt='f')\n",
    "plt.yticks(rotation=0)\n",
    "plt.show()\n",
    "print(a.mean().mean())"
   ]
  },
  {
   "cell_type": "markdown",
   "id": "afdcfea4-cf33-421f-8cf2-0f5c472b301d",
   "metadata": {},
   "source": [
    "## 도메인별 조합 나누기"
   ]
  },
  {
   "cell_type": "code",
   "execution_count": 258,
   "id": "94b2475d-c270-44ba-b5b3-b711843709da",
   "metadata": {},
   "outputs": [
    {
     "data": {
      "text/html": [
       "<div>\n",
       "<style scoped>\n",
       "    .dataframe tbody tr th:only-of-type {\n",
       "        vertical-align: middle;\n",
       "    }\n",
       "\n",
       "    .dataframe tbody tr th {\n",
       "        vertical-align: top;\n",
       "    }\n",
       "\n",
       "    .dataframe thead th {\n",
       "        text-align: right;\n",
       "    }\n",
       "</style>\n",
       "<table border=\"1\" class=\"dataframe\">\n",
       "  <thead>\n",
       "    <tr style=\"text-align: right;\">\n",
       "      <th></th>\n",
       "      <th>택시-도착 시간</th>\n",
       "      <th>택시-도착지</th>\n",
       "      <th>택시-종류</th>\n",
       "      <th>택시-출발 시간</th>\n",
       "      <th>택시-출발지</th>\n",
       "    </tr>\n",
       "  </thead>\n",
       "  <tbody>\n",
       "    <tr>\n",
       "      <th>택시-도착 시간</th>\n",
       "      <td>0.000000</td>\n",
       "      <td>0.063581</td>\n",
       "      <td>0.051811</td>\n",
       "      <td>0.060362</td>\n",
       "      <td>0.053018</td>\n",
       "    </tr>\n",
       "    <tr>\n",
       "      <th>택시-도착지</th>\n",
       "      <td>0.063581</td>\n",
       "      <td>0.000000</td>\n",
       "      <td>0.082596</td>\n",
       "      <td>0.140443</td>\n",
       "      <td>0.196177</td>\n",
       "    </tr>\n",
       "    <tr>\n",
       "      <th>택시-종류</th>\n",
       "      <td>0.051811</td>\n",
       "      <td>0.082596</td>\n",
       "      <td>0.000000</td>\n",
       "      <td>0.112374</td>\n",
       "      <td>0.087525</td>\n",
       "    </tr>\n",
       "    <tr>\n",
       "      <th>택시-출발 시간</th>\n",
       "      <td>0.060362</td>\n",
       "      <td>0.140443</td>\n",
       "      <td>0.112374</td>\n",
       "      <td>0.000000</td>\n",
       "      <td>0.152113</td>\n",
       "    </tr>\n",
       "    <tr>\n",
       "      <th>택시-출발지</th>\n",
       "      <td>0.053018</td>\n",
       "      <td>0.196177</td>\n",
       "      <td>0.087525</td>\n",
       "      <td>0.152113</td>\n",
       "      <td>0.000000</td>\n",
       "    </tr>\n",
       "  </tbody>\n",
       "</table>\n",
       "</div>"
      ],
      "text/plain": [
       "          택시-도착 시간    택시-도착지     택시-종류  택시-출발 시간    택시-출발지\n",
       "택시-도착 시간  0.000000  0.063581  0.051811  0.060362  0.053018\n",
       "택시-도착지    0.063581  0.000000  0.082596  0.140443  0.196177\n",
       "택시-종류     0.051811  0.082596  0.000000  0.112374  0.087525\n",
       "택시-출발 시간  0.060362  0.140443  0.112374  0.000000  0.152113\n",
       "택시-출발지    0.053018  0.196177  0.087525  0.152113  0.000000"
      ]
     },
     "execution_count": 258,
     "metadata": {},
     "output_type": "execute_result"
    }
   ],
   "source": [
    "a"
   ]
  },
  {
   "cell_type": "code",
   "execution_count": 259,
   "id": "7215ea88-f72c-403e-ba4c-eb885610d8a4",
   "metadata": {},
   "outputs": [],
   "source": [
    "domains = ['관광', '숙소', '식당', '지하철', '택시']\n",
    "results = AttrDict()\n",
    "for domain in domains:\n",
    "    div = (df_dict[domain].to_numpy().sum() - df_dict[domain].to_numpy().trace()) // 2\n",
    "    a = df_dict[domain] / div\n",
    "\n",
    "    limit = a.mean().mean()\n",
    "    normal = defaultdict(list)\n",
    "    rare = defaultdict(list)\n",
    "    for i in range(len(a)):\n",
    "        for j in range(i+1, len(a)):\n",
    "            if a.iloc[i, j] < limit:\n",
    "                rare[a.index[i]].append(a.columns[j])\n",
    "                rare[a.index[j]].append(a.columns[i])\n",
    "            else:\n",
    "                normal[a.index[i]].append(a.columns[j])\n",
    "                normal[a.index[j]].append(a.columns[i])\n",
    "    results[domain] = AttrDict(\n",
    "        normal=normal,\n",
    "        rare=rare,\n",
    "    )"
   ]
  },
  {
   "cell_type": "code",
   "execution_count": 260,
   "id": "0f6a924d-b480-4799-a570-09755006a42f",
   "metadata": {},
   "outputs": [
    {
     "data": {
      "text/plain": [
       "AttrDict({'관광-경치 좋은': ['관광-교육적', '관광-도보 가능', '관광-문화 예술', '관광-역사적', '관광-이름', '관광-주차 가능'], '관광-교육적': ['관광-경치 좋은', '관광-도보 가능', '관광-문화 예술', '관광-역사적', '관광-이름', '관광-종류', '관광-주차 가능'], '관광-도보 가능': ['관광-경치 좋은', '관광-교육적', '관광-문화 예술', '관광-역사적', '관광-이름', '관광-종류', '관광-주차 가능', '관광-지역'], '관광-문화 예술': ['관광-경치 좋은', '관광-교육적', '관광-도보 가능', '관광-역사적', '관광-이름', '관광-종류', '관광-주차 가능'], '관광-역사적': ['관광-경치 좋은', '관광-교육적', '관광-도보 가능', '관광-문화 예술', '관광-이름', '관광-주차 가능'], '관광-이름': ['관광-경치 좋은', '관광-교육적', '관광-도보 가능', '관광-문화 예술', '관광-역사적', '관광-종류', '관광-주차 가능', '관광-지역'], '관광-주차 가능': ['관광-경치 좋은', '관광-교육적', '관광-도보 가능', '관광-문화 예술', '관광-역사적', '관광-이름'], '관광-종류': ['관광-교육적', '관광-도보 가능', '관광-문화 예술', '관광-이름'], '관광-지역': ['관광-도보 가능', '관광-이름']})"
      ]
     },
     "execution_count": 260,
     "metadata": {},
     "output_type": "execute_result"
    }
   ],
   "source": [
    "domain = '관광'\n",
    "# print(results[domain].normal)\n",
    "results[domain].rare"
   ]
  },
  {
   "cell_type": "code",
   "execution_count": 261,
   "id": "d5851938-97d3-4f61-8fca-bbc152bfc516",
   "metadata": {},
   "outputs": [
    {
     "data": {
      "text/plain": [
       "{'관광-경치 좋은',\n",
       " '관광-도보 가능',\n",
       " '관광-문화 예술',\n",
       " '관광-역사적',\n",
       " '관광-이름',\n",
       " '관광-종류',\n",
       " '관광-주차 가능',\n",
       " '관광-지역'}"
      ]
     },
     "execution_count": 261,
     "metadata": {},
     "output_type": "execute_result"
    }
   ],
   "source": [
    "tmp = set(df_dict[domain].columns)\n",
    "tmp - set(['관광-교육적'])"
   ]
  },
  {
   "cell_type": "code",
   "execution_count": 287,
   "id": "2d78eaa6-b6b4-4cb4-b008-9e88203f4d8e",
   "metadata": {},
   "outputs": [],
   "source": [
    "all_dict = {}\n",
    "for domain in domains:\n",
    "    tmp = set(df_dict[domain].columns)\n",
    "    for k in tmp:\n",
    "        if k in boolean_slot_meta:\n",
    "            continue\n",
    "        new_stuff = list(tmp - set([k]) - boolean_slot_meta) # -set(results[domain].normal.get(k, [])))\n",
    "        if len(new_stuff) > 0:\n",
    "            all_dict[k] = new_stuff"
   ]
  },
  {
   "cell_type": "code",
   "execution_count": 288,
   "id": "5c9cd0cd-3a94-4a9e-a957-d4abdab76bd9",
   "metadata": {},
   "outputs": [],
   "source": [
    "normal_dict = {}\n",
    "for domain in domains:\n",
    "    tmp = set(df_dict[domain].columns)\n",
    "    for k in tmp:\n",
    "        if k in boolean_slot_meta:\n",
    "            continue\n",
    "        new_stuff = list(tmp - set([k]) - boolean_slot_meta -set(results[domain].rare.get(k, [])))\n",
    "        if len(new_stuff) > 0:\n",
    "            normal_dict[k] = new_stuff "
   ]
  },
  {
   "cell_type": "code",
   "execution_count": 289,
   "id": "18f4e85e-4e73-423c-b8a5-4ca68d44a8f2",
   "metadata": {},
   "outputs": [],
   "source": [
    "rare_dict = {}\n",
    "for domain in domains:\n",
    "    tmp = set(df_dict[domain].columns)\n",
    "    for k in tmp:\n",
    "        if k in boolean_slot_meta:\n",
    "            continue\n",
    "        new_stuff = list(tmp - set([k]) - boolean_slot_meta -set(results[domain].normal.get(k, [])))\n",
    "        if len(new_stuff) > 0:\n",
    "            rare_dict[k] = new_stuff "
   ]
  },
  {
   "cell_type": "code",
   "execution_count": 264,
   "id": "f7027cc4-a94a-463e-8e4f-45c1b8c189b7",
   "metadata": {},
   "outputs": [
    {
     "name": "stdout",
     "output_type": "stream",
     "text": [
      "/opt/ml/project/team/code\n"
     ]
    }
   ],
   "source": [
    "!pwd"
   ]
  },
  {
   "cell_type": "code",
   "execution_count": 290,
   "id": "f9024dc4-d77c-4ea9-9c61-db14cb465889",
   "metadata": {},
   "outputs": [],
   "source": [
    "import json\n",
    "json.dump(\n",
    "        all_dict,\n",
    "        open(f\"/opt/ml/input/data/coco_comb/all_no_bool.json\", \"w\"),\n",
    "        indent=2,\n",
    "        ensure_ascii=False,\n",
    ")\n",
    "\n",
    "json.dump(\n",
    "        normal_dict,\n",
    "        open(f\"/opt/ml/input/data/coco_comb/normal_no_bool.json\", \"w\"),\n",
    "        indent=2,\n",
    "        ensure_ascii=False,\n",
    ")\n",
    "\n",
    "json.dump(\n",
    "        rare_dict,\n",
    "        open(f\"/opt/ml/input/data/coco_comb/rare_no_bool.json\", \"w\"),\n",
    "        indent=2,\n",
    "        ensure_ascii=False,\n",
    ")"
   ]
  },
  {
   "cell_type": "code",
   "execution_count": 273,
   "id": "0379a89e-7458-4c70-a5ab-4786060cc30b",
   "metadata": {},
   "outputs": [],
   "source": [
    "boolean_slot_meta = set([k for k in ontology if len(ontology[k]) == 4])"
   ]
  },
  {
   "cell_type": "code",
   "execution_count": 291,
   "id": "5b2d4ef0-f2ca-4737-8874-389a29d790c5",
   "metadata": {},
   "outputs": [
    {
     "data": {
      "text/plain": [
       "{'관광-종류': ['관광-이름', '관광-지역'],\n",
       " '관광-이름': ['관광-종류', '관광-지역'],\n",
       " '관광-지역': ['관광-이름', '관광-종류'],\n",
       " '숙소-가격대': ['숙소-이름', '숙소-예약 기간', '숙소-지역', '숙소-예약 명수', '숙소-예약 요일', '숙소-종류'],\n",
       " '숙소-이름': ['숙소-가격대', '숙소-예약 기간', '숙소-지역', '숙소-예약 명수', '숙소-예약 요일', '숙소-종류'],\n",
       " '숙소-예약 기간': ['숙소-가격대', '숙소-이름', '숙소-지역', '숙소-예약 명수', '숙소-예약 요일', '숙소-종류'],\n",
       " '숙소-지역': ['숙소-가격대', '숙소-이름', '숙소-예약 기간', '숙소-예약 명수', '숙소-예약 요일', '숙소-종류'],\n",
       " '숙소-예약 명수': ['숙소-가격대', '숙소-이름', '숙소-예약 기간', '숙소-지역', '숙소-예약 요일', '숙소-종류'],\n",
       " '숙소-예약 요일': ['숙소-가격대', '숙소-이름', '숙소-예약 기간', '숙소-지역', '숙소-예약 명수', '숙소-종류'],\n",
       " '숙소-종류': ['숙소-가격대', '숙소-이름', '숙소-예약 기간', '숙소-지역', '숙소-예약 명수', '숙소-예약 요일'],\n",
       " '식당-예약 명수': ['식당-지역', '식당-가격대', '식당-종류', '식당-예약 요일', '식당-예약 시간', '식당-이름'],\n",
       " '식당-지역': ['식당-가격대', '식당-예약 시간', '식당-종류', '식당-예약 요일', '식당-예약 명수', '식당-이름'],\n",
       " '식당-가격대': ['식당-지역', '식당-예약 시간', '식당-종류', '식당-예약 요일', '식당-예약 명수', '식당-이름'],\n",
       " '식당-종류': ['식당-지역', '식당-가격대', '식당-예약 시간', '식당-예약 요일', '식당-예약 명수', '식당-이름'],\n",
       " '식당-예약 요일': ['식당-지역', '식당-가격대', '식당-예약 시간', '식당-종류', '식당-예약 명수', '식당-이름'],\n",
       " '식당-예약 시간': ['식당-지역', '식당-가격대', '식당-종류', '식당-예약 요일', '식당-예약 명수', '식당-이름'],\n",
       " '식당-이름': ['식당-지역', '식당-가격대', '식당-예약 시간', '식당-종류', '식당-예약 요일', '식당-예약 명수'],\n",
       " '지하철-출발 시간': ['지하철-도착지', '지하철-출발지'],\n",
       " '지하철-도착지': ['지하철-출발 시간', '지하철-출발지'],\n",
       " '지하철-출발지': ['지하철-출발 시간', '지하철-도착지'],\n",
       " '택시-출발지': ['택시-도착 시간', '택시-도착지', '택시-종류', '택시-출발 시간'],\n",
       " '택시-종류': ['택시-출발 시간', '택시-도착지', '택시-출발지', '택시-도착 시간'],\n",
       " '택시-출발 시간': ['택시-종류', '택시-도착지', '택시-출발지', '택시-도착 시간'],\n",
       " '택시-도착지': ['택시-도착 시간', '택시-출발지', '택시-종류', '택시-출발 시간'],\n",
       " '택시-도착 시간': ['택시-종류', '택시-도착지', '택시-출발지', '택시-출발 시간']}"
      ]
     },
     "execution_count": 291,
     "metadata": {},
     "output_type": "execute_result"
    }
   ],
   "source": [
    "all_dict"
   ]
  },
  {
   "cell_type": "code",
   "execution_count": 292,
   "id": "7440c50a-3e35-45cc-98cd-fb19bfab5a9d",
   "metadata": {},
   "outputs": [
    {
     "data": {
      "text/plain": [
       "{'관광-종류': ['관광-지역'],\n",
       " '관광-지역': ['관광-종류'],\n",
       " '숙소-가격대': ['숙소-지역', '숙소-종류'],\n",
       " '숙소-이름': ['숙소-예약 요일', '숙소-예약 기간', '숙소-예약 명수'],\n",
       " '숙소-예약 기간': ['숙소-예약 요일', '숙소-이름', '숙소-예약 명수'],\n",
       " '숙소-지역': ['숙소-가격대', '숙소-종류'],\n",
       " '숙소-예약 명수': ['숙소-예약 요일', '숙소-이름', '숙소-예약 기간'],\n",
       " '숙소-예약 요일': ['숙소-이름', '숙소-예약 기간', '숙소-예약 명수'],\n",
       " '숙소-종류': ['숙소-가격대', '숙소-지역'],\n",
       " '식당-예약 명수': ['식당-예약 요일', '식당-예약 시간', '식당-이름'],\n",
       " '식당-지역': ['식당-종류', '식당-가격대'],\n",
       " '식당-가격대': ['식당-종류', '식당-지역'],\n",
       " '식당-종류': ['식당-가격대', '식당-지역'],\n",
       " '식당-예약 요일': ['식당-예약 시간', '식당-이름', '식당-예약 명수'],\n",
       " '식당-예약 시간': ['식당-예약 요일', '식당-예약 명수', '식당-이름'],\n",
       " '식당-이름': ['식당-예약 요일', '식당-예약 시간', '식당-예약 명수'],\n",
       " '지하철-도착지': ['지하철-출발지'],\n",
       " '지하철-출발지': ['지하철-도착지'],\n",
       " '택시-출발지': ['택시-출발 시간', '택시-도착지', '택시-종류'],\n",
       " '택시-종류': ['택시-도착지', '택시-출발지', '택시-출발 시간'],\n",
       " '택시-출발 시간': ['택시-도착지', '택시-출발지', '택시-종류'],\n",
       " '택시-도착지': ['택시-출발 시간', '택시-출발지', '택시-종류']}"
      ]
     },
     "execution_count": 292,
     "metadata": {},
     "output_type": "execute_result"
    }
   ],
   "source": [
    "normal_dict"
   ]
  },
  {
   "cell_type": "code",
   "execution_count": 293,
   "id": "4fa837c2-b893-4a0f-9e98-e3820737f810",
   "metadata": {},
   "outputs": [
    {
     "data": {
      "text/plain": [
       "{'관광-종류': ['관광-이름'],\n",
       " '관광-이름': ['관광-종류', '관광-지역'],\n",
       " '관광-지역': ['관광-이름'],\n",
       " '숙소-가격대': ['숙소-예약 요일', '숙소-이름', '숙소-예약 기간', '숙소-예약 명수'],\n",
       " '숙소-이름': ['숙소-가격대', '숙소-지역', '숙소-종류'],\n",
       " '숙소-예약 기간': ['숙소-가격대', '숙소-지역', '숙소-종류'],\n",
       " '숙소-지역': ['숙소-예약 요일', '숙소-이름', '숙소-예약 기간', '숙소-예약 명수'],\n",
       " '숙소-예약 명수': ['숙소-가격대', '숙소-지역', '숙소-종류'],\n",
       " '숙소-예약 요일': ['숙소-가격대', '숙소-지역', '숙소-종류'],\n",
       " '숙소-종류': ['숙소-예약 요일', '숙소-이름', '숙소-예약 기간', '숙소-예약 명수'],\n",
       " '식당-예약 명수': ['식당-종류', '식당-가격대', '식당-지역'],\n",
       " '식당-지역': ['식당-예약 요일', '식당-예약 시간', '식당-이름', '식당-예약 명수'],\n",
       " '식당-가격대': ['식당-예약 요일', '식당-예약 시간', '식당-이름', '식당-예약 명수'],\n",
       " '식당-종류': ['식당-예약 요일', '식당-예약 시간', '식당-이름', '식당-예약 명수'],\n",
       " '식당-예약 요일': ['식당-종류', '식당-가격대', '식당-지역'],\n",
       " '식당-예약 시간': ['식당-종류', '식당-가격대', '식당-지역'],\n",
       " '식당-이름': ['식당-종류', '식당-가격대', '식당-지역'],\n",
       " '지하철-출발 시간': ['지하철-도착지', '지하철-출발지'],\n",
       " '지하철-도착지': ['지하철-출발 시간'],\n",
       " '지하철-출발지': ['지하철-출발 시간'],\n",
       " '택시-출발지': ['택시-도착 시간'],\n",
       " '택시-종류': ['택시-도착 시간'],\n",
       " '택시-출발 시간': ['택시-도착 시간'],\n",
       " '택시-도착지': ['택시-도착 시간'],\n",
       " '택시-도착 시간': ['택시-종류', '택시-도착지', '택시-출발지', '택시-출발 시간']}"
      ]
     },
     "execution_count": 293,
     "metadata": {},
     "output_type": "execute_result"
    }
   ],
   "source": [
    "rare_dict"
   ]
  },
  {
   "cell_type": "code",
   "execution_count": null,
   "id": "fd12dfc9-c2ad-46a6-9e46-d656252d4921",
   "metadata": {},
   "outputs": [],
   "source": []
  }
 ],
 "metadata": {
  "kernelspec": {
   "display_name": "Python 3",
   "language": "python",
   "name": "python3"
  },
  "language_info": {
   "codemirror_mode": {
    "name": "ipython",
    "version": 3
   },
   "file_extension": ".py",
   "mimetype": "text/x-python",
   "name": "python",
   "nbconvert_exporter": "python",
   "pygments_lexer": "ipython3",
   "version": "3.7.7"
  }
 },
 "nbformat": 4,
 "nbformat_minor": 5
}
