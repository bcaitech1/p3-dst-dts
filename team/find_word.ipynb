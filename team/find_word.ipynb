{
 "cells": [
  {
   "cell_type": "code",
   "execution_count": 1,
   "id": "78cb0212-f36c-4fc1-9f53-8952186440d8",
   "metadata": {},
   "outputs": [
    {
     "name": "stdout",
     "output_type": "stream",
     "text": [
      "/opt/ml/project/team/code\n"
     ]
    }
   ],
   "source": [
    "%cd code"
   ]
  },
  {
   "cell_type": "code",
   "execution_count": 2,
   "id": "e3dd760d-d458-4f25-8066-e8751e555ad4",
   "metadata": {},
   "outputs": [],
   "source": [
    "import json\n",
    "import regex as re\n",
    "from attrdict import AttrDict\n",
    "from string import Template\n",
    "\n",
    "from collections import defaultdict\n",
    "from dataclasses import dataclass\n",
    "from typing import List, Optional, Union, Dict\n",
    "\n",
    "from prepare import get_data\n",
    "from data_utils import load_dataset, get_examples_from_dialogues, split_slot"
   ]
  },
  {
   "cell_type": "code",
   "execution_count": 3,
   "id": "ece90e0e-91c9-4ca9-acf4-f20e6e48dc83",
   "metadata": {},
   "outputs": [],
   "source": [
    "args = AttrDict(\n",
    "    train_file_name='train_dials.json',\n",
    "    data_dir= '/opt/ml/input/data/train_dataset',\n",
    "    ontology_root='/opt/ml/input/data/train_dataset/edit_ontology_metro.json',\n",
    "    use_convert_ont=False,\n",
    "    use_domain_slot='basic',\n",
    "    use_small_data=False,\n",
    ")"
   ]
  },
  {
   "cell_type": "code",
   "execution_count": 4,
   "id": "1681cfda-b7ef-4dce-91f5-6bded68061dd",
   "metadata": {},
   "outputs": [
    {
     "name": "stdout",
     "output_type": "stream",
     "text": [
      "using train: train_dials.json\n"
     ]
    }
   ],
   "source": [
    "data, slot_meta, ontology = get_data(args)"
   ]
  },
  {
   "cell_type": "code",
   "execution_count": 5,
   "id": "7c1aa229-c066-4183-8e5c-387813738aea",
   "metadata": {},
   "outputs": [
    {
     "data": {
      "application/vnd.jupyter.widget-view+json": {
       "model_id": "ff6fdecd14ba4960abc28cceb1ea9838",
       "version_major": 2,
       "version_minor": 0
      },
      "text/plain": [
       "HBox(children=(FloatProgress(value=0.0, description='Getting all examples from dialogues', max=7000.0, style=P…"
      ]
     },
     "metadata": {},
     "output_type": "display_data"
    },
    {
     "name": "stdout",
     "output_type": "stream",
     "text": [
      "\n"
     ]
    }
   ],
   "source": [
    "examples = get_examples_from_dialogues(\n",
    "        data, user_first=False, dialogue_level=True, which='all'\n",
    ")"
   ]
  },
  {
   "cell_type": "code",
   "execution_count": 6,
   "id": "2b34b445-1b6f-497e-9596-e9b06e4b7bf6",
   "metadata": {},
   "outputs": [
    {
     "data": {
      "text/plain": [
       "[DSTInputExample(guid='falling-king-2544:택시_1-0', context_turns=[], current_turn=['', '요청할게 있습니다. 인사동에서 모텔 킹까지 가는 고급택시를 찾고있습니다. '], label=['택시-출발지-인사동', '택시-도착지-모텔 킹', '택시-종류-고급'], before_label=[]),\n",
       " DSTInputExample(guid='falling-king-2544:택시_1-1', context_turns=['', '요청할게 있습니다. 인사동에서 모텔 킹까지 가는 고급택시를 찾고있습니다. '], current_turn=['안녕하세요. 원하시는 출발시간대와 도착시간대가 있으신가요? ', '13시 20분까지 도착만 하면 됩니다. 출발시간은 아무때나 괜찮습니다. '], label=['택시-출발 시간-dontcare', '택시-출발지-인사동', '택시-도착지-모텔 킹', '택시-도착 시간-13:20', '택시-종류-고급'], before_label=['택시-출발지-인사동', '택시-도착지-모텔 킹', '택시-종류-고급']),\n",
       " DSTInputExample(guid='falling-king-2544:택시_1-2', context_turns=['', '요청할게 있습니다. 인사동에서 모텔 킹까지 가는 고급택시를 찾고있습니다. ', '안녕하세요. 원하시는 출발시간대와 도착시간대가 있으신가요? ', '13시 20분까지 도착만 하면 됩니다. 출발시간은 아무때나 괜찮습니다. '], current_turn=['10000원으로 이용하실 수 있는 고급택시가 검색되었습니다. 전화번호는 06837405219 입니다. 더 궁금하신 사항 있으신가요? ', '아니요 감사합니다. '], label=['택시-출발 시간-dontcare', '택시-출발지-인사동', '택시-도착지-모텔 킹', '택시-도착 시간-13:20', '택시-종류-고급'], before_label=['택시-출발 시간-dontcare', '택시-출발지-인사동', '택시-도착지-모텔 킹', '택시-도착 시간-13:20', '택시-종류-고급'])]"
      ]
     },
     "execution_count": 6,
     "metadata": {},
     "output_type": "execute_result"
    }
   ],
   "source": [
    "examples[4]"
   ]
  },
  {
   "cell_type": "code",
   "execution_count": 7,
   "id": "0d8bbca8-1ebc-4621-bf00-1c3c2dc61955",
   "metadata": {},
   "outputs": [],
   "source": [
    "@dataclass\n",
    "class TurnFeature:\n",
    "    guid: str\n",
    "    current_turn: List[str]\n",
    "    value: str\n",
    "    before_states: Dict[str, str]\n",
    "    \n",
    "    def __repr__(self):\n",
    "        return f'''\n",
    "{self.guid}\n",
    "VAL: {self.value}\n",
    "SYS: {self.current_turn[0]}\n",
    "USR: {self.current_turn[1]}\n",
    "before: {self.before_states}\n",
    "'''"
   ]
  },
  {
   "cell_type": "code",
   "execution_count": 8,
   "id": "12271920-74f4-478c-a8f3-e1f947ec1f4e",
   "metadata": {},
   "outputs": [],
   "source": [
    "guid2examples = {y.guid:y for x in examples for y in x}"
   ]
  },
  {
   "cell_type": "code",
   "execution_count": 9,
   "id": "f5eab9db-6bdb-421a-b286-0c571f819f9d",
   "metadata": {},
   "outputs": [],
   "source": [
    "def labels_to_dict(label):\n",
    "    ret = dict()\n",
    "    for x in label:\n",
    "        slot, value = split_slot(x, True)\n",
    "        ret[slot] = value\n",
    "    return ret"
   ]
  },
  {
   "cell_type": "code",
   "execution_count": 10,
   "id": "bce2ac85-4f2d-4821-9a3b-71023ee9d7ae",
   "metadata": {},
   "outputs": [],
   "source": [
    "slot2guids = defaultdict(list)\n",
    "for dialogs in examples:\n",
    "    for example in dialogs:\n",
    "        before_label_dict = labels_to_dict(example.before_label)\n",
    "\n",
    "        for slot_value in example.label:\n",
    "            if slot_value in example.before_label:\n",
    "                continue\n",
    "            slot, value = split_slot(slot_value, True)\n",
    "            slot2guids[slot].append(\n",
    "                TurnFeature(example.guid, example.current_turn, value, before_label_dict)\n",
    "            )"
   ]
  },
  {
   "cell_type": "code",
   "execution_count": 11,
   "id": "ac421308-cb29-4be3-ab95-74bf9f883308",
   "metadata": {},
   "outputs": [],
   "source": [
    "def can_find(pat, turn, no_space):\n",
    "    if re.search(pat, turn) is not None:\n",
    "        return True\n",
    "    if no_space and re.search(''.join(pat.split()), ''.join(turn.split())) is not None:\n",
    "        return True\n",
    "    return False"
   ]
  },
  {
   "cell_type": "code",
   "execution_count": 12,
   "id": "c220f8a0-08d6-49d0-be94-162dee85a18a",
   "metadata": {},
   "outputs": [],
   "source": [
    "def show_example(example):\n",
    "    print(f'guid: {example.guid}')\n",
    "    print()\n",
    "    print('------------ HISTORY ------------')\n",
    "    for i, val in enumerate(example.context_turns):\n",
    "        who = 'SYS' if i % 2 == 0 else 'USR'\n",
    "        print(f'{who}: {val}')\n",
    "    print()\n",
    "    print('------------ CURRENT ------------')\n",
    "    for i, val in enumerate(example.current_turn):\n",
    "        who = 'SYS' if i % 2 == 0 else 'USR'\n",
    "        print(f'{who}: {val}')\n",
    "        \n",
    "    print(f'label: {example.labe1l}')\n",
    "    print(f'before_label: {example.before_label}')"
   ]
  },
  {
   "cell_type": "code",
   "execution_count": 13,
   "id": "17619394-aa4e-4cda-bba2-bcb6ecad7ac3",
   "metadata": {},
   "outputs": [
    {
     "data": {
      "text/plain": [
       "['관광-경치 좋은',\n",
       " '관광-교육적',\n",
       " '관광-도보 가능',\n",
       " '관광-문화 예술',\n",
       " '관광-역사적',\n",
       " '관광-이름',\n",
       " '관광-종류',\n",
       " '관광-주차 가능',\n",
       " '관광-지역',\n",
       " '숙소-가격대',\n",
       " '숙소-도보 가능',\n",
       " '숙소-수영장 유무',\n",
       " '숙소-스파 유무',\n",
       " '숙소-예약 기간',\n",
       " '숙소-예약 명수',\n",
       " '숙소-예약 요일',\n",
       " '숙소-이름',\n",
       " '숙소-인터넷 가능',\n",
       " '숙소-조식 가능',\n",
       " '숙소-종류',\n",
       " '숙소-주차 가능',\n",
       " '숙소-지역',\n",
       " '숙소-헬스장 유무',\n",
       " '숙소-흡연 가능',\n",
       " '식당-가격대',\n",
       " '식당-도보 가능',\n",
       " '식당-야외석 유무',\n",
       " '식당-예약 명수',\n",
       " '식당-예약 시간',\n",
       " '식당-예약 요일',\n",
       " '식당-이름',\n",
       " '식당-인터넷 가능',\n",
       " '식당-종류',\n",
       " '식당-주류 판매',\n",
       " '식당-주차 가능',\n",
       " '식당-지역',\n",
       " '식당-흡연 가능',\n",
       " '지하철-도착지',\n",
       " '지하철-출발 시간',\n",
       " '지하철-출발지',\n",
       " '택시-도착 시간',\n",
       " '택시-도착지',\n",
       " '택시-종류',\n",
       " '택시-출발 시간',\n",
       " '택시-출발지']"
      ]
     },
     "execution_count": 13,
     "metadata": {},
     "output_type": "execute_result"
    }
   ],
   "source": [
    "slot_meta"
   ]
  },
  {
   "cell_type": "markdown",
   "id": "913c140e-c620-40dd-a960-d5066d037da8",
   "metadata": {},
   "source": [
    "## 메모"
   ]
  },
  {
   "cell_type": "markdown",
   "id": "7265a646-2dcd-4706-8b44-04d9dd9e370c",
   "metadata": {},
   "source": [
    "택시 출발지: 숙소에서 택시 출발 다 못 찾음"
   ]
  },
  {
   "cell_type": "markdown",
   "id": "9e142b7e-1a3d-4c62-91eb-ced5e748a6e4",
   "metadata": {},
   "source": [
    "## Normal"
   ]
  },
  {
   "cell_type": "code",
   "execution_count": 14,
   "id": "e6de8395-04ac-47df-85ed-4bf1c9e81da0",
   "metadata": {},
   "outputs": [],
   "source": [
    "special_values = set(['dontcare'])\n",
    "\n",
    "use_alternative = True\n",
    "# 일단은 택시 출발지\n",
    "alternative_values = {\n",
    "    '숙소':['숙소-이름'],\n",
    "    '모텔':['숙소-이름'],\n",
    "    '호텔':['숙소-이름'],\n",
    "    '식당':['식당-이름'],\n",
    "    '관광':['관광-이름'],\n",
    "    \n",
    "    '거기':['숙소-이름', '관광-이름','식당-이름'], # 사용해도 될까?\n",
    "}"
   ]
  },
  {
   "cell_type": "code",
   "execution_count": 15,
   "id": "38da652e-ccc8-4251-8f94-601f102d5750",
   "metadata": {},
   "outputs": [
    {
     "name": "stdout",
     "output_type": "stream",
     "text": [
      "4027 -> 301\n"
     ]
    }
   ],
   "source": [
    "slot_to_check = '식당-예약 요일'\n",
    "no_space = True\n",
    "\n",
    "not_found = []\n",
    "for x in slot2guids[slot_to_check]:\n",
    "    if x.value in special_values:\n",
    "        continue\n",
    "    found = False\n",
    "    for turn in x.current_turn:\n",
    "        pat = x.value\n",
    "        found |= can_find(pat, turn, no_space)\n",
    "        \n",
    "    if use_alternative and not found:\n",
    "        for turn in x.current_turn:\n",
    "            for k, vv in alternative_values.items():\n",
    "                pat = k\n",
    "                if can_find(pat, turn, no_space):\n",
    "                    for v in vv:\n",
    "                        if x.before_states.get(v, '') == x.value:\n",
    "                            found |= True\n",
    "        \n",
    "    if not found:\n",
    "        not_found.append(x)\n",
    "print(f'{len(slot2guids[slot_to_check])} -> {len(not_found)}')"
   ]
  },
  {
   "cell_type": "code",
   "execution_count": null,
   "id": "2812d4bc-c04d-4441-9905-727ae50295cb",
   "metadata": {},
   "outputs": [],
   "source": []
  },
  {
   "cell_type": "code",
   "execution_count": 16,
   "id": "91580bbf-35b1-4cfa-9b22-2748ce7501c8",
   "metadata": {},
   "outputs": [],
   "source": [
    "# show_example(guid2examples['patient-lab-8392:숙소_관광_택시_14-5'])"
   ]
  },
  {
   "cell_type": "code",
   "execution_count": 17,
   "id": "207fef48-168d-4826-b6c1-7fc7a9a512de",
   "metadata": {},
   "outputs": [
    {
     "data": {
      "text/plain": [
       "['식당-예약 시간', '지하철-출발 시간', '택시-도착 시간', '택시-출발 시간']"
      ]
     },
     "execution_count": 17,
     "metadata": {},
     "output_type": "execute_result"
    }
   ],
   "source": [
    "[slot for slot in  slot_meta if '시간' in slot]"
   ]
  },
  {
   "cell_type": "markdown",
   "id": "e3cc6c62-4ca8-4fcf-8ea9-0b2604d152bf",
   "metadata": {},
   "source": [
    "## Time"
   ]
  },
  {
   "cell_type": "code",
   "execution_count": 18,
   "id": "833e745a-8ea0-47bf-92c2-8d69294d976e",
   "metadata": {},
   "outputs": [],
   "source": [
    "full_time_formats = [Template('$hour:$mn')]\n",
    "zero_pad_okay_formats = [Template('$prefix $hour 시 $mn 분'), Template('$prefix $hour 시 $mn')]\n",
    "\n",
    "zero_min_formats = [Template('$prefix $hour 시')]\n",
    "half_min_formats = [Template('$prefix $hour 시 반')]\n",
    "\n",
    "am_formats = ['', '오전', '낮'] # 낮 1시는 언제 , 밤 1시는 언제 오히려 밤 1시가 01이고 낮 1시는 13 이거는 예외처리 필요\n",
    "pm_formats =['오후', '저녁', '밤']\n",
    "\n",
    "time2word = '영 한 두 세 네 다섯 여섯 일곱 여덟 아홉 열 열한 열두'.split()\n",
    "\n",
    "ten2word = '영 일 이 삼 사 오 육 칠 팔 구'.split()\n",
    "\n",
    "def min2word(mn):\n",
    "    word = ''\n",
    "    if mn[0] >= '2':\n",
    "        word += ten2word[int(mn[0])]\n",
    "    if mn[0] >= '1':\n",
    "        word += '십'\n",
    "    if mn[1] >= '1':\n",
    "        word += ten2word[int(mn[1])]\n",
    "    \n",
    "    if mn == '00':\n",
    "        word = '영'\n",
    "    return word"
   ]
  },
  {
   "cell_type": "code",
   "execution_count": 19,
   "id": "49c59625-e104-4a1d-a348-8aaf1c386632",
   "metadata": {
    "scrolled": true,
    "tags": []
   },
   "outputs": [
    {
     "name": "stdout",
     "output_type": "stream",
     "text": [
      "2935 -> 21\n"
     ]
    }
   ],
   "source": [
    "slot_to_check = '택시-출발 시간'\n",
    "no_space = True\n",
    "\n",
    "not_found = []\n",
    "for x in slot2guids[slot_to_check]:\n",
    "    if x.value in special_values:\n",
    "        continue\n",
    "        \n",
    "    hour, mn = x.value.split(':')\n",
    "    zero_pad_list = [(hour, mn)]\n",
    "    if hour[0] == '0':\n",
    "        zero_pad_list.append((hour[1], mn))\n",
    "    if mn[0] == '0' and mn != '00':\n",
    "        zero_pad_list.append((hour, mn[1]))\n",
    "    if hour[0] == '0' and mn[0] == '0' and mn != '00':\n",
    "        zero_pad_list.append((hour[1], mn[1]))\n",
    "\n",
    "    found = False\n",
    "    for turn in x.current_turn:\n",
    "        for pat_format in full_time_formats:\n",
    "            pat = pat_format.substitute(hour=hour, mn=mn)\n",
    "            found |= can_find(pat, turn, no_space)\n",
    "            \n",
    "            if hour[0] == '0':\n",
    "                pat = pat_format.substitute(hour=hour[1], mn=mn)\n",
    "                found |= can_find(pat, turn, no_space)\n",
    "            \n",
    "        for pat_format in zero_pad_okay_formats:\n",
    "            for z_hour, z_mn in zero_pad_list:\n",
    "                pat = pat_format.substitute(prefix='', hour=z_hour, mn=z_mn)\n",
    "                found |= can_find(pat, turn, no_space)\n",
    "                \n",
    "                if int(z_hour) <= 11:\n",
    "                    for am in am_formats:\n",
    "                        pat = pat_format.substitute(prefix=am, hour=z_hour, mn=z_mn)\n",
    "                        found |= can_find(pat, turn, no_space)\n",
    "                        \n",
    "                        pat = pat_format.substitute(prefix=am, hour=time2word[int(hour)%12], mn=z_mn)\n",
    "                        found |= can_find(pat, turn, no_space)\n",
    "                        \n",
    "                        wmn = min2word(mn)\n",
    "                        pat = pat_format.substitute(prefix=am, hour=z_hour, mn=wmn)\n",
    "                        found |= can_find(pat, turn, no_space)\n",
    "                        \n",
    "                        pat = pat_format.substitute(prefix=am, hour=time2word[int(hour)%12], mn=wmn)\n",
    "                        found |= can_find(pat, turn, no_space)\n",
    "\n",
    "                if int(z_hour) >= 13:\n",
    "                    for pm in pm_formats:\n",
    "                        pat = pat_format.substitute(prefix=pm, hour=int(z_hour)-12, mn=z_mn)\n",
    "                        found |= can_find(pat, turn, no_space)\n",
    "                        \n",
    "                        wmn = min2word(mn)\n",
    "                        pat = pat_format.substitute(prefix=pm, hour=z_hour, mn=wmn)\n",
    "                        found |= can_find(pat, turn, no_space)\n",
    "                        \n",
    "                        pat = pat_format.substitute(prefix=pm, hour=time2word[int(hour)%12], mn=wmn)\n",
    "                        found |= can_find(pat, turn, no_space)\n",
    "        \n",
    "        if mn == '00':\n",
    "            for pat_format in zero_min_formats:\n",
    "                pat = pat_format.substitute(prefix='',hour=hour, mn=mn)\n",
    "                found |= can_find(pat, turn, no_space)\n",
    "                \n",
    "                if hour[0] == '0':\n",
    "                    pat = pat_format.substitute(prefix='',hour=hour[1], mn=mn)\n",
    "                    found |= can_find(pat, turn, no_space)\n",
    "                \n",
    "                if int(hour) <= 11:\n",
    "                    for am in am_formats:\n",
    "                        pat = pat_format.substitute(prefix=am, hour=hour, mn=mn)\n",
    "                        found |= can_find(pat, turn, no_space)\n",
    "                        \n",
    "                        pat = pat_format.substitute(prefix=am, hour=time2word[int(hour)%12], mn=mn)\n",
    "                        found |= can_find(pat, turn, no_space)\n",
    "                if int(hour) >= 13:\n",
    "                    for pm in pm_formats:\n",
    "                        pat = pat_format.substitute(prefix=pm, hour=int(hour)-12, mn=mn)\n",
    "                        found |= can_find(pat, turn, no_space)\n",
    "                        \n",
    "                        pat = pat_format.substitute(prefix=pm, hour=time2word[int(hour)%12], mn=mn)\n",
    "                        found |= can_find(pat, turn, no_space)\n",
    "            \n",
    "        if mn == '30':\n",
    "            for pat_format in half_min_formats:\n",
    "                pat = pat_format.substitute(prefix='',hour=hour, mn=mn)\n",
    "                found |= can_find(pat, turn, no_space)\n",
    "                \n",
    "                if hour[0] == '0':\n",
    "                    pat = pat_format.substitute(prefix='',hour=hour[1], mn=mn)\n",
    "                    found |= can_find(pat, turn, no_space)\n",
    "                    \n",
    "                pat = pat_format.substitute(prefix='',hour=time2word[(int(hour)-1)%12+1], mn=mn)\n",
    "                found |= can_find(pat, turn, no_space)\n",
    "                \n",
    "                if int(hour) <= 11:\n",
    "                    for am in am_formats:\n",
    "                        pat = pat_format.substitute(prefix=am, hour=z_hour, mn=z_mn)\n",
    "                        found |= can_find(pat, turn, no_space)\n",
    "                if int(hour) >= 13:\n",
    "                    for pm in pm_formats:\n",
    "                        pat = pat_format.substitute(prefix=pm, hour=int(z_hour)-12, mn=z_mn)\n",
    "                        found |= can_find(pat, turn, no_space)\n",
    "        \n",
    "    if not found:\n",
    "        not_found.append(x)\n",
    "print(f'{len(slot2guids[slot_to_check])} -> {len(not_found)}')"
   ]
  },
  {
   "cell_type": "markdown",
   "id": "a86822bb-1637-4bf8-888b-259a3b41dd8d",
   "metadata": {},
   "source": [
    "# Filters"
   ]
  },
  {
   "cell_type": "markdown",
   "id": "a30c78ac-e01a-4e41-9ccb-df911fd5e05d",
   "metadata": {},
   "source": [
    "## Time Filter"
   ]
  },
  {
   "cell_type": "code",
   "execution_count": 434,
   "id": "22dc31aa-21bd-4f83-a69d-05b5f12d4561",
   "metadata": {},
   "outputs": [],
   "source": [
    "def filter_no_str(matches):\n",
    "    if len(matches) == 0:\n",
    "        return matches\n",
    "    if not isinstance(matches[0], tuple):\n",
    "        return [matches]\n",
    "    return [[x.strip() for x in match if len(x.strip()) > 0] for match in matches]"
   ]
  },
  {
   "cell_type": "code",
   "execution_count": 530,
   "id": "d5951df1-6ed0-4651-8f31-52f88a8102a8",
   "metadata": {},
   "outputs": [],
   "source": [
    "time2word = '영 한 두 세 네 다섯 여섯 일곱 여덟 아홉 열 열한 열두'.split()\n",
    "word2index = {x:idx for idx, x in enumerate(time2word)}\n",
    "\n",
    "time_zone = [\n",
    "    '오후',\n",
    "    '오전',\n",
    "    '저녁',\n",
    "    '낮',\n",
    "    '밤',\n",
    "    '새벽',\n",
    "]\n",
    "time_zone_pat = '|'.join(time_zone)\n",
    "\n",
    "def solve_time(time_zone_info, hour):\n",
    "    time_zone_info = time_zone_info.strip()\n",
    "    if time_zone_info == '오후':\n",
    "        if hour < 12:\n",
    "            hour += 12\n",
    "    elif time_zone_info == '오전':\n",
    "        pass\n",
    "    elif time_zone_info == '저녁':\n",
    "        if hour < 12:\n",
    "            hour += 12\n",
    "    elif time_zone_info == '낮':\n",
    "        if hour < 5:\n",
    "            hour += 12\n",
    "\n",
    "    elif time_zone_info == '밤':\n",
    "        if hour < 12:\n",
    "            hour += 12\n",
    "    elif time_zone_info == '새벽':\n",
    "        pass\n",
    "    else:\n",
    "        print('not found: ',time_zone_info)    \n",
    "        raise NotImplementedError()\n",
    "    \n",
    "    return hour\n",
    "\n",
    "    \n",
    "ten2word = '영 일 이 삼 사 오 육 칠 팔 구'.split()\n",
    "ten2word_dict = {x:idx for idx, x in enumerate(ten2word)}\n",
    "\n",
    "prefix_ten = '|'.join('영 일 이 삼 사 오 육'.split())\n",
    "\n",
    "\n",
    "def word2min(word):\n",
    "    word = word.strip()\n",
    "    \n",
    "    size = 0\n",
    "    stack = []\n",
    "    for w in word:\n",
    "        if w == '십':\n",
    "            count = 10\n",
    "        else:\n",
    "            count = ten2word_dict[w]\n",
    "        if size == 0 or stack[-1] >= count:\n",
    "            stack.append(count)\n",
    "            size += 1\n",
    "        else:\n",
    "            stack[-1] *= count\n",
    "            \n",
    "    return sum(stack)\n",
    "        \n",
    "def min2word(mn):\n",
    "    word = ''\n",
    "    if mn[0] >= '2':\n",
    "        word += ten2word[int(mn[0])]\n",
    "    if mn[0] >= '1':\n",
    "        word += '십'\n",
    "    if mn[1] >= '1':\n",
    "        word += ten2word[int(mn[1])]\n",
    "    \n",
    "    if mn == '00':\n",
    "        word = '영'\n",
    "    return word\n",
    "    \n",
    "\n",
    "patterns = [\n",
    "    r'(\\d\\d?)\\s*:\\s*(\\d\\d)',          # 09:23, 2:23\n",
    "    fr'((?:{time_zone_pat})\\s*)?(\\d\\d?)\\s*시\\s*(\\d\\d?)\\s*분?',   # 9시 23분, 09시     2분, 4시4\n",
    "    fr'((?:{time_zone_pat})\\s*)?({\"|\".join(time2word)})\\s*시\\s*(\\d\\d?)\\s*분?',\n",
    "    fr'((?:{time_zone_pat})\\s*)?(\\d\\d?)\\s*시\\s*((?:(?:(?:{prefix_ten})?십)(?:{ten2word})|(?:(?:{prefix_ten})?십)|(?:{ten2word})))\\s*분',\n",
    "    fr'((?:{time_zone_pat})\\s*)?({\"|\".join(time2word)})\\s*시\\s*((?:(?:(?:{prefix_ten})?십)(?:{ten2word})|(?:(?:{prefix_ten})?십)|(?:{ten2word})))\\s*분'\n",
    "]\n",
    "\n",
    "half_patterns = [\n",
    "    fr'((?:{time_zone_pat})\\s*)?(\\d\\d?)\\s*시\\s*(?:반|30분?)',\n",
    "    fr'((?:{time_zone_pat})\\s*)?({\"|\".join(time2word)})\\s*시\\s*(?:반|30\\s*분?)', \n",
    "]\n",
    "\n",
    "hour_only_patterns = [\n",
    "    fr'((?:{time_zone_pat})\\s*)?(\\d\\d?)\\s*시',\n",
    "    fr'((?:{time_zone_pat})\\s*)?({\"|\".join(time2word)})\\s*시',\n",
    "]\n",
    "\n",
    "pat = '|'.join(patterns)\n",
    "half_pat = '|'.join(half_patterns)\n",
    "hour_only_pat = '|'.join(hour_only_patterns)"
   ]
  },
  {
   "cell_type": "code",
   "execution_count": 550,
   "id": "b618f432-fb5b-47a1-b186-22e02fb40e94",
   "metadata": {},
   "outputs": [],
   "source": [
    "slot_to_check = '식당-예약 시간'\n",
    "no_space = True\n",
    "\n",
    "\n",
    "sys_turn = '안녕하세요. 서울 송파구에 위치한 랍스터를 판매하는 누가또가재는 어떠세요?'\n",
    "usr_turn = '안그래도 랍스터를 먹은지 진짜 오래됐는데.. 추천해주신김에 한번 방문해봐야겠어요. 금요일에 20시20분으로 2명 예약 가능할까요?'\n",
    "slots_to_check = ['식당-예약 시간-06:12']\n",
    "\n",
    "# slots_to_check = time slots only\n",
    "def filter_time(sys_turn, usr_turn, slots_to_check, no_space=True):\n",
    "    turns = [sys_turn, usr_turn]\n",
    "    not_found = []\n",
    "    for slot_value in slots_to_check:\n",
    "        domain, value = split_slot(slot_value, True)\n",
    "        if value in special_values:\n",
    "            continue\n",
    "            \n",
    "            \n",
    "        pat = value\n",
    "        found = False\n",
    "        for turn in turns:\n",
    "            found |= can_find(pat, turn, no_space)\n",
    "\n",
    "        if not found:\n",
    "            not_found.append(slot_value)\n",
    "    return len(not_found) == 0, not_found\n",
    "        \n",
    "    \n",
    "filter_time(sys_turn, usr_turn, slots_to_check)\n",
    "\n",
    "\n",
    "def filter_by_time(turn, value):\n",
    "    if value in special_values:\n",
    "        return False\n",
    "    \n",
    "    # filter by h:m\n",
    "    matches = re.findall(pat, turn, overlapped=False)\n",
    "    matches = filter_no_str(matches)\n",
    "    for match in matches:\n",
    "        if len(match) < 2:\n",
    "            continue\n",
    "\n",
    "        if len(match) == 3:\n",
    "            if match[1] in word2index:\n",
    "                match[1] = word2index[match[1]]\n",
    "            match[0] = solve_time(match[0], int(match[1]))\n",
    "            match[1] = match[2]\n",
    "        else:\n",
    "            if match[0] in word2index:\n",
    "                match[0] = word2index[match[0]]\n",
    "\n",
    "        if not ('0' <= match[1].strip()[0] <= '9'):\n",
    "            match[1] = word2min(match[1])\n",
    "\n",
    "        if f'{match[0]:0>2}:{match[1]:0>2}' == value:\n",
    "            return True\n",
    "\n",
    "    # filter by h:30\n",
    "    half_matches = re.findall(half_pat, turn, overlapped=False)\n",
    "    half_matches = filter_no_str(half_matches)\n",
    "    for match in half_matches:\n",
    "        if len(match) == 2:\n",
    "            if match[1] in word2index:\n",
    "                match[1] = word2index[match[1]]\n",
    "            match[0] = solve_time(match[0], int(match[1]))\n",
    "        else:\n",
    "            if match[0] in word2index:\n",
    "                match[0] = word2index[match[0]]\n",
    "\n",
    "        if f'{match[0]:0>2}:30' == value:\n",
    "            return True\n",
    "\n",
    "    # filter by h:00\n",
    "    hour_only_matches = re.findall(hour_only_pat, turn, overlapped=False)\n",
    "    hour_only_matches = filter_no_str(hour_only_matches)\n",
    "    for match in hour_only_matches:\n",
    "        if len(match) == 2:\n",
    "            if match[1] in word2index:\n",
    "                match[1] = word2index[match[1]]\n",
    "            match[0] = solve_time(match[0], int(match[1]))\n",
    "        else:\n",
    "            if match[0] in word2index:\n",
    "                match[0] = word2index[match[0]]\n",
    "\n",
    "        if f'{match[0]:0>2}:00' == value:\n",
    "            return True\n",
    "        \n",
    "    return False"
   ]
  },
  {
   "cell_type": "markdown",
   "id": "fb1acaa5-d536-4585-98d6-8e636badfc3f",
   "metadata": {},
   "source": [
    "## default filter"
   ]
  },
  {
   "cell_type": "code",
   "execution_count": 552,
   "id": "e0f1daa5-fe79-4fa6-b7a6-96136392f4d4",
   "metadata": {},
   "outputs": [
    {
     "data": {
      "text/plain": [
       "(True, [])"
      ]
     },
     "execution_count": 552,
     "metadata": {},
     "output_type": "execute_result"
    }
   ],
   "source": [
    "special_values = set(['dontcare']) # 이거는 해결 못함\n",
    "\n",
    "no_space = True\n",
    "\n",
    "sys_turn = '안녕하세요. 서울 송파구에 위치한 랍스터를 판매하는 누가또가재는 어떠세요?'\n",
    "usr_turn = '안그래도 랍스터를 먹은지 진짜 오래됐는데.. 추천해주신김에 한번 방문해봐야겠어요. 금요일에 20시20분으로 2명 예약 가능할까요?'\n",
    "slots_to_check = ['식당-예약 시간-20:20', '식당-예약 요일-금요일', '식당-이름-누가또가재']\n",
    "\n",
    "time_slots = set(['식당-예약 시간', '지하철-출발 시간', '택시-도착 시간', '택시-출발 시간'])\n",
    "def filter_normal(sys_turn, usr_turn, slots_to_check, no_space=True):\n",
    "    turns = [sys_turn, usr_turn]\n",
    "    not_found = []\n",
    "    for slot_value in slots_to_check:\n",
    "        domain, value = split_slot(slot_value, True)\n",
    "        if value in special_values:\n",
    "            continue\n",
    "            \n",
    "        found = False\n",
    "        if domain in time_slots:\n",
    "            for turn in turns:\n",
    "                found |= filter_by_time(turn, value)\n",
    "        else:\n",
    "            pat = value\n",
    "            for turn in turns:\n",
    "                found |= can_find(pat, turn, no_space)\n",
    "\n",
    "        if not found:\n",
    "            not_found.append(slot_value)\n",
    "    return len(not_found) == 0, not_found\n",
    "        \n",
    "    \n",
    "filter_normal(sys_turn, usr_turn, slots_to_check)"
   ]
  },
  {
   "cell_type": "markdown",
   "id": "e266ebb7-b515-4ff3-be64-83215a99a9b7",
   "metadata": {},
   "source": [
    "## Archive"
   ]
  },
  {
   "cell_type": "code",
   "execution_count": 542,
   "id": "80917fa0-092c-42c5-82d8-79f5a0bfc0fb",
   "metadata": {},
   "outputs": [],
   "source": [
    "def filter_no_str(matches):\n",
    "    if len(matches) == 0:\n",
    "        return matches\n",
    "    if not isinstance(matches[0], tuple):\n",
    "        return [matches]\n",
    "    return [[x.strip() for x in match if len(x.strip()) > 0] for match in matches]"
   ]
  },
  {
   "cell_type": "code",
   "execution_count": 560,
   "id": "f385e7ce-305c-43b8-9a68-50bc24247bee",
   "metadata": {},
   "outputs": [],
   "source": [
    "import re\n",
    "\n",
    "def can_find(pat, turn, no_space):\n",
    "    if re.search(pat, turn) is not None:\n",
    "        return True\n",
    "    if no_space and re.search(''.join(pat.split()), ''.join(turn.split())) is not None:\n",
    "        return True\n",
    "    return False\n",
    "\n",
    "def filter_no_str(matches):\n",
    "    if len(matches) == 0:\n",
    "        return matches\n",
    "    if not isinstance(matches[0], tuple):\n",
    "        return [matches]\n",
    "    return [[x.strip() for x in match if len(x.strip()) > 0] for match in matches]\n",
    "\n",
    "time2word = '영 한 두 세 네 다섯 여섯 일곱 여덟 아홉 열 열한 열두'.split()\n",
    "word2index = {x:idx for idx, x in enumerate(time2word)}\n",
    "\n",
    "time_zone = [\n",
    "    '오후',\n",
    "    '오전',\n",
    "    '저녁',\n",
    "    '낮',\n",
    "    '밤',\n",
    "    '새벽',\n",
    "]\n",
    "time_zone_pat = '|'.join(time_zone)\n",
    "\n",
    "def solve_time(time_zone_info, hour):\n",
    "    time_zone_info = time_zone_info.strip()\n",
    "    if time_zone_info == '오후':\n",
    "        if hour < 12:\n",
    "            hour += 12\n",
    "    elif time_zone_info == '오전':\n",
    "        pass\n",
    "    elif time_zone_info == '저녁':\n",
    "        if hour < 12:\n",
    "            hour += 12\n",
    "    elif time_zone_info == '낮':\n",
    "        if hour < 5:\n",
    "            hour += 12\n",
    "\n",
    "    elif time_zone_info == '밤':\n",
    "        if hour < 12:\n",
    "            hour += 12\n",
    "    elif time_zone_info == '새벽':\n",
    "        pass\n",
    "    else:\n",
    "        print('not found: ',time_zone_info)    \n",
    "        raise NotImplementedError()\n",
    "    \n",
    "    return hour\n",
    "\n",
    "    \n",
    "ten2word = '영 일 이 삼 사 오 육 칠 팔 구'.split()\n",
    "ten2word_dict = {x:idx for idx, x in enumerate(ten2word)}\n",
    "\n",
    "prefix_ten = '|'.join('영 일 이 삼 사 오 육'.split())\n",
    "\n",
    "\n",
    "def word2min(word):\n",
    "    word = word.strip()\n",
    "    \n",
    "    size = 0\n",
    "    stack = []\n",
    "    for w in word:\n",
    "        if w == '십':\n",
    "            count = 10\n",
    "        else:\n",
    "            count = ten2word_dict[w]\n",
    "        if size == 0 or stack[-1] >= count:\n",
    "            stack.append(count)\n",
    "            size += 1\n",
    "        else:\n",
    "            stack[-1] *= count\n",
    "            \n",
    "    return sum(stack)\n",
    "        \n",
    "def min2word(mn):\n",
    "    word = ''\n",
    "    if mn[0] >= '2':\n",
    "        word += ten2word[int(mn[0])]\n",
    "    if mn[0] >= '1':\n",
    "        word += '십'\n",
    "    if mn[1] >= '1':\n",
    "        word += ten2word[int(mn[1])]\n",
    "    \n",
    "    if mn == '00':\n",
    "        word = '영'\n",
    "    return word\n",
    "    \n",
    "\n",
    "patterns = [\n",
    "    r'(\\d\\d?)\\s*:\\s*(\\d\\d)',          # 09:23, 2:23\n",
    "    fr'((?:{time_zone_pat})\\s*)?(\\d\\d?)\\s*시\\s*(\\d\\d?)\\s*분?',   # 9시 23분, 09시     2분, 4시4\n",
    "    fr'((?:{time_zone_pat})\\s*)?({\"|\".join(time2word)})\\s*시\\s*(\\d\\d?)\\s*분?',\n",
    "    fr'((?:{time_zone_pat})\\s*)?(\\d\\d?)\\s*시\\s*((?:(?:(?:{prefix_ten})?십)(?:{ten2word})|(?:(?:{prefix_ten})?십)|(?:{ten2word})))\\s*분',\n",
    "    fr'((?:{time_zone_pat})\\s*)?({\"|\".join(time2word)})\\s*시\\s*((?:(?:(?:{prefix_ten})?십)(?:{ten2word})|(?:(?:{prefix_ten})?십)|(?:{ten2word})))\\s*분'\n",
    "]\n",
    "\n",
    "half_patterns = [\n",
    "    fr'((?:{time_zone_pat})\\s*)?(\\d\\d?)\\s*시\\s*(?:반|30분?)',\n",
    "    fr'((?:{time_zone_pat})\\s*)?({\"|\".join(time2word)})\\s*시\\s*(?:반|30\\s*분?)', \n",
    "]\n",
    "\n",
    "hour_only_patterns = [\n",
    "    fr'((?:{time_zone_pat})\\s*)?(\\d\\d?)\\s*시(?!\\s*(?:반|\\d\\d?분|((?:(?:(?:{prefix_ten})?십)(?:{ten2word})|(?:(?:{prefix_ten})?십)|(?:{ten2word})))\\s*분))',\n",
    "    fr'((?:{time_zone_pat})\\s*)?({\"|\".join(time2word)})\\s*시(?!\\s*(?:반|\\d\\d?분|((?:(?:(?:{prefix_ten})?십)(?:{ten2word})|(?:(?:{prefix_ten})?십)|(?:{ten2word})))\\s*분))',\n",
    "]\n",
    "\n",
    "pat = '|'.join(patterns)\n",
    "half_pat = '|'.join(half_patterns)\n",
    "hour_only_pat = '|'.join(hour_only_patterns)"
   ]
  },
  {
   "cell_type": "code",
   "execution_count": 562,
   "id": "a6813330-2ad8-47cd-9b29-d712b9049772",
   "metadata": {},
   "outputs": [
    {
     "name": "stdout",
     "output_type": "stream",
     "text": [
      "4127 -> 56\n"
     ]
    }
   ],
   "source": [
    "slot_to_check = '식당-예약 시간'\n",
    "no_space = True\n",
    "\n",
    "old_found = not_found\n",
    "not_found = []\n",
    "for x in slot2guids[slot_to_check]:\n",
    "# for x in [use_found[3]]:\n",
    "# for x in old_found:\n",
    "    if x.value in special_values:\n",
    "        continue\n",
    "        \n",
    "    found = False\n",
    "    for turn in x.current_turn:\n",
    "        matches = re.findall(pat, turn)\n",
    "\n",
    "        matches = filter_no_str(matches)\n",
    "        for match in matches:\n",
    "            if len(match) < 2:\n",
    "                continue\n",
    "                \n",
    "            if len(match) == 3:\n",
    "                if match[1] in word2index:\n",
    "                    match[1] = word2index[match[1]]\n",
    "                match[0] = solve_time(match[0], int(match[1]))\n",
    "                match[1] = match[2]\n",
    "            else:\n",
    "                if match[0] in word2index:\n",
    "                    match[0] = word2index[match[0]]\n",
    "                    \n",
    "            if not ('0' <= match[1].strip()[0] <= '9'):\n",
    "                match[1] = word2min(match[1])\n",
    "                    \n",
    "            found |= (f'{match[0]:0>2}:{match[1]:0>2}' == x.value)\n",
    "        \n",
    "        half_matches = re.findall(half_pat, turn)\n",
    "        half_matches = filter_no_str(half_matches)\n",
    "        for match in half_matches:\n",
    "            if len(match) == 2:\n",
    "                if match[1] in word2index:\n",
    "                    match[1] = word2index[match[1]]\n",
    "                match[0] = solve_time(match[0], int(match[1]))\n",
    "            else:\n",
    "                if match[0] in word2index:\n",
    "                    match[0] = word2index[match[0]]\n",
    "\n",
    "            found |= (f'{match[0]:0>2}:30' == x.value)\n",
    "            \n",
    "        hour_only_matches = re.findall(hour_only_pat, turn)\n",
    "        hour_only_matches = filter_no_str(hour_only_matches)\n",
    "        for match in hour_only_matches:\n",
    "            if len(match) == 2:\n",
    "                if match[1] in word2index:\n",
    "                    match[1] = word2index[match[1]]\n",
    "                match[0] = solve_time(match[0], int(match[1]))\n",
    "            else:\n",
    "                if match[0] in word2index:\n",
    "                    match[0] = word2index[match[0]]\n",
    "\n",
    "            found |= (f'{match[0]:0>2}:00' == x.value)\n",
    "\n",
    "    if not found:\n",
    "        not_found.append(x)\n",
    "        \n",
    "print(f'{len(slot2guids[slot_to_check])} -> {len(not_found)}')"
   ]
  },
  {
   "cell_type": "code",
   "execution_count": null,
   "id": "9251594e-88f6-4207-87a2-dc13c568d47c",
   "metadata": {},
   "outputs": [],
   "source": []
  }
 ],
 "metadata": {
  "kernelspec": {
   "display_name": "Python 3",
   "language": "python",
   "name": "python3"
  },
  "language_info": {
   "codemirror_mode": {
    "name": "ipython",
    "version": 3
   },
   "file_extension": ".py",
   "mimetype": "text/x-python",
   "name": "python",
   "nbconvert_exporter": "python",
   "pygments_lexer": "ipython3",
   "version": "3.7.7"
  }
 },
 "nbformat": 4,
 "nbformat_minor": 5
}
