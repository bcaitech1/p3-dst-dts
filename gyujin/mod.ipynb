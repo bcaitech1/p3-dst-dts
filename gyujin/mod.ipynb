{
 "cells": [
  {
   "cell_type": "code",
   "execution_count": 7,
   "id": "634a29a0-f5b8-478a-8f19-e09e8e46aee0",
   "metadata": {},
   "outputs": [],
   "source": [
    "import json\n",
    "import re"
   ]
  },
  {
   "cell_type": "code",
   "execution_count": 8,
   "id": "5fd5ccdc-1160-4f39-b3a3-d9af1a511160",
   "metadata": {},
   "outputs": [],
   "source": [
    "# domain_slot, value 추출\n",
    "def split_slot_value(s):\n",
    "    pat = r'(.*-.*)-(.*$)'\n",
    "    match = re.search(pat, s)\n",
    "    return match[1], match[2]\n",
    "\n",
    "# json에서 domain_slot: value 사전형식으로 변환\n",
    "def split_json(dt):\n",
    "    new_dict = {}\n",
    "    for k, values in dt.items():\n",
    "        new_values = {}\n",
    "        for value in values:\n",
    "            slot_domain, v = split_slot_value(value)\n",
    "            new_values[slot_domain] = v\n",
    "        new_dict[k] = new_values\n",
    "    return new_dict"
   ]
  },
  {
   "cell_type": "code",
   "execution_count": 2,
   "id": "f19ea5e4-8ec1-45f8-9a90-b6be636c326b",
   "metadata": {},
   "outputs": [
    {
     "name": "stdout",
     "output_type": "stream",
     "text": [
      " README.md   Untitled.ipynb   code   mod.ipynb\t'predictions (17).json'\n"
     ]
    }
   ],
   "source": [
    "!ls"
   ]
  },
  {
   "cell_type": "code",
   "execution_count": 3,
   "id": "d6a5bab5-2988-4b85-ba06-3d047bd0b20a",
   "metadata": {},
   "outputs": [],
   "source": [
    "file_name ='predictions (17).json'"
   ]
  },
  {
   "cell_type": "code",
   "execution_count": 15,
   "id": "7ad81ab5-e961-4f05-a6a3-06a058b49de1",
   "metadata": {},
   "outputs": [],
   "source": [
    "main_json = json.load(open(file_name, 'r'))"
   ]
  },
  {
   "cell_type": "code",
   "execution_count": 23,
   "id": "8650dcfb-404a-4f3d-9ce9-abd177819697",
   "metadata": {},
   "outputs": [],
   "source": [
    "hangul = re.compile('[^ ㄱ-ㅣ가-힣:0-9]+')\n",
    "special_tokens = set()\n",
    "for k, v in main_json.items():\n",
    "    things = []\n",
    "    for it in v:\n",
    "        slot, val = split_slot_value(it)\n",
    "        result = hangul.findall(val) \n",
    "        special_tokens.update(result)\n"
   ]
  },
  {
   "cell_type": "code",
   "execution_count": null,
   "id": "3976471c-b9f1-462e-8f5e-2dc8cef9029a",
   "metadata": {},
   "outputs": [],
   "source": [
    "special_toks = ['&', '(', ')', '=']"
   ]
  },
  {
   "cell_type": "code",
   "execution_count": 38,
   "id": "7b219827-d02c-4da6-a99a-8ce73c41b2ed",
   "metadata": {},
   "outputs": [
    {
     "data": {
      "text/plain": [
       "'롯데월드타워 & 몰'"
      ]
     },
     "execution_count": 38,
     "metadata": {},
     "output_type": "execute_result"
    }
   ],
   "source": [
    "val"
   ]
  },
  {
   "cell_type": "code",
   "execution_count": 46,
   "id": "30088c9f-74d5-43e2-b026-5977cb4a2444",
   "metadata": {},
   "outputs": [
    {
     "data": {
      "text/plain": [
       "['관광-이름-국립현대미술관 서울관점',\n",
       " '관광-종류-박물관',\n",
       " '관광-지역-서울 북쪽',\n",
       " '숙소-가격대-dontcare',\n",
       " '숙소-스파 유무-yes',\n",
       " '숙소-예약 기간-1',\n",
       " '숙소-예약 명수-2',\n",
       " '숙소-예약 요일-화요일',\n",
       " '숙소-이름-그린비',\n",
       " '숙소-조식 가능-yes',\n",
       " '숙소-종류-에어비엔비',\n",
       " '숙소-지역-dontcare',\n",
       " '식당-가격대-dontcare',\n",
       " '식당-야외석 유무-yes',\n",
       " '식당-예약 명수-2',\n",
       " '식당-예약 시간-20:40',\n",
       " '식당-예약 요일-화요일',\n",
       " '식당-이름-어차피자',\n",
       " '식당-종류-양식당',\n",
       " '식당-지역-서울 북쪽']"
      ]
     },
     "execution_count": 46,
     "metadata": {},
     "output_type": "execute_result"
    }
   ],
   "source": [
    "v"
   ]
  },
  {
   "cell_type": "code",
   "execution_count": 60,
   "id": "07dd7980-3f0c-4460-8126-415d25028277",
   "metadata": {
    "scrolled": true,
    "tags": []
   },
   "outputs": [],
   "source": [
    "new_json = {}\n",
    "\n",
    "for k, v in main_json.items():\n",
    "    things = []\n",
    "    for it in v:\n",
    "        slot, val = split_slot_value(it)\n",
    "        changed = False\n",
    "        old = val\n",
    "        for sp_tok in special_toks:\n",
    "            if sp_tok in val:\n",
    "                val = sp_tok.join([x.strip() for x in val.split(sp_tok)])\n",
    "                changed = True\n",
    "        if changed:\n",
    "            pass\n",
    "        things.append(f'{slot}-{val}')\n",
    "\n",
    "    new_json[k] = things"
   ]
  },
  {
   "cell_type": "code",
   "execution_count": 56,
   "id": "e0a1c680-5d1c-4665-8bb6-5b5e45278d8e",
   "metadata": {},
   "outputs": [
    {
     "ename": "KeyError",
     "evalue": "'misty-field-8990'",
     "output_type": "error",
     "traceback": [
      "\u001b[0;31m---------------------------------------------------------------------------\u001b[0m",
      "\u001b[0;31mKeyError\u001b[0m                                  Traceback (most recent call last)",
      "\u001b[0;32m<ipython-input-56-046b1f007ce1>\u001b[0m in \u001b[0;36m<module>\u001b[0;34m\u001b[0m\n\u001b[0;32m----> 1\u001b[0;31m \u001b[0mnew_json\u001b[0m\u001b[0;34m[\u001b[0m\u001b[0;34m'misty-field-8990'\u001b[0m\u001b[0;34m]\u001b[0m\u001b[0;34m\u001b[0m\u001b[0;34m\u001b[0m\u001b[0m\n\u001b[0m",
      "\u001b[0;31mKeyError\u001b[0m: 'misty-field-8990'"
     ]
    }
   ],
   "source": [
    "new_json['misty-field-8990']"
   ]
  },
  {
   "cell_type": "code",
   "execution_count": 61,
   "id": "79ad62f9-dfce-4cca-be65-122e6d96afb6",
   "metadata": {},
   "outputs": [],
   "source": [
    "output_file = 'mod.csv'\n",
    "json.dump(\n",
    "        new_json,\n",
    "        open(output_file, \"w\"),\n",
    "        indent=2,\n",
    "        ensure_ascii=False,\n",
    ")"
   ]
  },
  {
   "cell_type": "code",
   "execution_count": null,
   "id": "e13b451b-481e-4c09-93dc-c701f3d86231",
   "metadata": {},
   "outputs": [],
   "source": []
  }
 ],
 "metadata": {
  "kernelspec": {
   "display_name": "Python 3",
   "language": "python",
   "name": "python3"
  },
  "language_info": {
   "codemirror_mode": {
    "name": "ipython",
    "version": 3
   },
   "file_extension": ".py",
   "mimetype": "text/x-python",
   "name": "python",
   "nbconvert_exporter": "python",
   "pygments_lexer": "ipython3",
   "version": "3.7.7"
  }
 },
 "nbformat": 4,
 "nbformat_minor": 5
}
